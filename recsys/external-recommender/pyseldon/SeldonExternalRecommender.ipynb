{
 "cells": [
  {
   "cell_type": "markdown",
   "metadata": {},
   "source": [
    "## Simple recommender implementation\n",
    "Read recommendations from file"
   ]
  },
  {
   "cell_type": "code",
   "execution_count": 64,
   "metadata": {
    "collapsed": false
   },
   "outputs": [],
   "source": [
    "PATH = '/home/enriqueotero/projects/beeva-poc-seldon/external-recommender/data/recs_10k.tsv'\n",
    "import re\n",
    "import sys\n",
    "\n",
    "def recommendations(recs_path):\n",
    "    \"\"\"\n",
    "    Parse file with user recommendations\n",
    "    :return:\n",
    "    \"\"\"\n",
    "    with open(recs_path) as f:\n",
    "        lines = f.readlines()\n",
    "        fields = map(lambda s:s.rstrip(':\\n').split('\\t'), lines)\n",
    "        \n",
    "        fields = map(lambda f: (f[0], f[1].split(':')), fields)\n",
    "        items = map(lambda f: (f[0], map(lambda x: (x.split(',')[0], x.split(',')[1]), f[1])), fields)\n",
    "        \n",
    "        mydict = {key: value for (key, value) in items}\n",
    "        return mydict\n"
   ]
  },
  {
   "cell_type": "markdown",
   "metadata": {},
   "source": [
    "## Declare recommender\n",
    "By extending class Recommender"
   ]
  },
  {
   "cell_type": "code",
   "execution_count": 14,
   "metadata": {
    "collapsed": false
   },
   "outputs": [],
   "source": [
    "from seldon import Recommender"
   ]
  },
  {
   "cell_type": "code",
   "execution_count": 81,
   "metadata": {
    "collapsed": true
   },
   "outputs": [],
   "source": [
    "class SimpleRecommender(Recommender):\n",
    "    \n",
    "    def __init__(self):\n",
    "        # Format has to be like\n",
    "        # self.res = [(1,0.8),(2,0.7)]\n",
    "        self.res = [(1,0.8),(2,0.7)]\n",
    "        self.res = recommendations(PATH)\n",
    "    \n",
    "    def recommend(self,user,ids,recent_interactions,client,limit):\n",
    "        user = str(user)\n",
    "        if not user in self.res:\n",
    "            print \"user %s not found\" %user\n",
    "            user = self.res.keys()[0]\n",
    "        return self.res[user][0:limit]"
   ]
  },
  {
   "cell_type": "markdown",
   "metadata": {},
   "source": [
    "## Test recommender"
   ]
  },
  {
   "cell_type": "code",
   "execution_count": 84,
   "metadata": {
    "collapsed": false
   },
   "outputs": [
    {
     "name": "stdout",
     "output_type": "stream",
     "text": [
      "user None not found\n",
      "[('1193', '0.441'), ('110', '0.354')]\n"
     ]
    }
   ],
   "source": [
    "sr1 = SimpleRecommender()\n",
    "res1 = sr1.recommend(None,None,None,\"test\",2)\n",
    "print res1"
   ]
  },
  {
   "cell_type": "markdown",
   "metadata": {},
   "source": [
    "## Test recommender wrapper"
   ]
  },
  {
   "cell_type": "code",
   "execution_count": 87,
   "metadata": {
    "collapsed": true
   },
   "outputs": [],
   "source": [
    "from seldon import Recommender_wrapper"
   ]
  },
  {
   "cell_type": "code",
   "execution_count": 86,
   "metadata": {
    "collapsed": false
   },
   "outputs": [
    {
     "name": "stdout",
     "output_type": "stream",
     "text": [
      "[('2571', '0.904'), ('1206', '0.864')]\n"
     ]
    }
   ],
   "source": [
    "rr = Recommender_wrapper()\n",
    "rr.save_recommender(sr1,\"simplerec\")\n",
    "\n",
    "sr2 = rr.load_recommender(\"simplerec\")\n",
    "res2 = sr2.recommend(1,None,None,\"test\",2)\n",
    "print res2"
   ]
  },
  {
   "cell_type": "code",
   "execution_count": null,
   "metadata": {
    "collapsed": true
   },
   "outputs": [],
   "source": []
  }
 ],
 "metadata": {
  "kernelspec": {
   "display_name": "Python 2",
   "language": "python",
   "name": "python2"
  },
  "language_info": {
   "codemirror_mode": {
    "name": "ipython",
    "version": 2
   },
   "file_extension": ".py",
   "mimetype": "text/x-python",
   "name": "python",
   "nbconvert_exporter": "python",
   "pygments_lexer": "ipython2",
   "version": "2.7.12"
  }
 },
 "nbformat": 4,
 "nbformat_minor": 1
}
